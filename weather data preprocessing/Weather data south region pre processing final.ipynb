{
 "cells": [
  {
   "cell_type": "code",
   "execution_count": 3,
   "id": "f516ddd7",
   "metadata": {},
   "outputs": [],
   "source": [
    "import findspark\n",
    "findspark.init()"
   ]
  },
  {
   "cell_type": "code",
   "execution_count": 4,
   "id": "b7883ce7",
   "metadata": {},
   "outputs": [],
   "source": [
    "import pyspark # only run after findspark.init()\n",
    "from pyspark.sql import SparkSession\n",
    "import torch\n",
    "from random import Random\n",
    "import pandas as pd\n",
    "import csv"
   ]
  },
  {
   "cell_type": "code",
   "execution_count": 5,
   "id": "e8bff66f",
   "metadata": {},
   "outputs": [],
   "source": [
    "sc = SparkSession.builder.master(\"local\").getOrCreate()\n",
    "# sc = SparkSession.builder.master(\"spark://cheyenne:30915\").getOrCreate()"
   ]
  },
  {
   "cell_type": "markdown",
   "id": "001af55d",
   "metadata": {},
   "source": [
    "Read the data into a pyspark dataframe."
   ]
  },
  {
   "cell_type": "code",
   "execution_count": 6,
   "id": "a29ebc25",
   "metadata": {},
   "outputs": [],
   "source": [
    "northRegionInitialData = sc.read.csv(\"C:\\\\Users\\Marky\\\\Documents\\\\College Schoolwork\\\\grad school work\\\\CSU\\\\cs 535 big data\\\\final project\\\\south.csv\")"
   ]
  },
  {
   "cell_type": "markdown",
   "id": "a84fedde",
   "metadata": {},
   "source": [
    "Rename and drop unneeded columns per our feature selection decisions."
   ]
  },
  {
   "cell_type": "code",
   "execution_count": 53,
   "id": "b0486b6a",
   "metadata": {},
   "outputs": [],
   "source": [
    "northRegionInitialData = northRegionInitialData.withColumnRenamed(\"_c0\", \"index\")\n",
    "northRegionInitialData = northRegionInitialData.withColumnRenamed(\"_c1\", \"date\")\n",
    "northRegionInitialData = northRegionInitialData.withColumnRenamed(\"_c2\", \"hour\")\n",
    "northRegionInitialData = northRegionInitialData.withColumnRenamed(\"_c3\", \"total_precipitation\")\n",
    "northRegionInitialData = northRegionInitialData.withColumnRenamed(\"_c4\", \"atmospheric_pressure_at_station_height\")\n",
    "northRegionInitialData = northRegionInitialData.withColumnRenamed(\"_c5\", \"pressure_max_previous_hour\")\n",
    "northRegionInitialData = northRegionInitialData.withColumnRenamed(\"_c6\", \"pressure_min_previous_hour\")\n",
    "northRegionInitialData = northRegionInitialData.withColumnRenamed(\"_c7\", \"radiation\")\n",
    "northRegionInitialData = northRegionInitialData.withColumnRenamed(\"_c8\", \"air_temperature\")\n",
    "northRegionInitialData = northRegionInitialData.withColumnRenamed(\"_c9\", \"dew_point_temperature\")\n",
    "northRegionInitialData = northRegionInitialData.withColumnRenamed(\"_c10\", \"max_temperature_previous_hour\")\n",
    "northRegionInitialData = northRegionInitialData.withColumnRenamed(\"_c11\", \"min_temperature_previous_hour\")\n",
    "northRegionInitialData = northRegionInitialData.withColumnRenamed(\"_c12\", \"max_dew_temperature_previous_hour\")\n",
    "northRegionInitialData = northRegionInitialData.withColumnRenamed(\"_c13\", \"min_dew_temperature_previous_hour\")\n",
    "northRegionInitialData = northRegionInitialData.withColumnRenamed(\"_c14\", \"humidity_max_previous_hour\")\n",
    "northRegionInitialData = northRegionInitialData.withColumnRenamed(\"_c15\", \"humidity_min_previous_hour\")\n",
    "northRegionInitialData = northRegionInitialData.withColumnRenamed(\"_c16\", \"air_relative_humidity_percentage\")\n",
    "northRegionInitialData = northRegionInitialData.withColumnRenamed(\"_c17\", \"wind_direction_meters_per_second\")\n",
    "northRegionInitialData = northRegionInitialData.withColumnRenamed(\"_c18\", \"wind_gust_meters_per_second\")\n",
    "northRegionInitialData = northRegionInitialData.withColumnRenamed(\"_c19\", \"wind_speed\")\n",
    "northRegionInitialData = northRegionInitialData.withColumnRenamed(\"_c20\", \"region\")\n",
    "northRegionInitialData = northRegionInitialData.withColumnRenamed(\"_c21\", \"state\")\n",
    "northRegionInitialData = northRegionInitialData.withColumnRenamed(\"_c22\", \"station\")\n",
    "northRegionInitialData = northRegionInitialData.withColumnRenamed(\"_c23\", \"station_code\")\n",
    "northRegionInitialData = northRegionInitialData.withColumnRenamed(\"_c24\", \"latitude\")\n",
    "northRegionInitialData = northRegionInitialData.withColumnRenamed(\"_c25\", \"longitude\")\n",
    "northRegionInitialData = northRegionInitialData.withColumnRenamed(\"_c26\", \"height\")"
   ]
  },
  {
   "cell_type": "code",
   "execution_count": 54,
   "id": "eb50ffab",
   "metadata": {},
   "outputs": [],
   "source": [
    "northRegionInitialData = northRegionInitialData.filter(\"total_precipitation != -9999\")\n",
    "northRegionInitialData = northRegionInitialData.filter(\"atmospheric_pressure_at_station_height != -9999\")\n",
    "northRegionInitialData = northRegionInitialData.filter(\"pressure_max_previous_hour != -9999\")\n",
    "northRegionInitialData = northRegionInitialData.filter(\"pressure_min_previous_hour != -9999\")\n",
    "northRegionInitialData = northRegionInitialData.filter(\"radiation != -9999\")\n",
    "northRegionInitialData = northRegionInitialData.filter(\"air_temperature != -9999\")\n",
    "northRegionInitialData = northRegionInitialData.filter(\"dew_point_temperature != -9999\")\n",
    "northRegionInitialData = northRegionInitialData.filter(\"max_temperature_previous_hour != -9999\")\n",
    "northRegionInitialData = northRegionInitialData.filter(\"min_temperature_previous_hour != -9999\")\n",
    "northRegionInitialData = northRegionInitialData.filter(\"max_dew_temperature_previous_hour != -9999\")\n",
    "northRegionInitialData = northRegionInitialData.filter(\"min_dew_temperature_previous_hour != -9999\")\n",
    "northRegionInitialData = northRegionInitialData.filter(\"air_relative_humidity_percentage != -9999\")\n",
    "northRegionInitialData = northRegionInitialData.filter(\"wind_direction_meters_per_second != -9999\")\n",
    "northRegionInitialData = northRegionInitialData.filter(\"wind_gust_meters_per_second != -9999\")\n",
    "northRegionInitialData = northRegionInitialData.filter(\"wind_speed != -9999\")"
   ]
  },
  {
   "cell_type": "code",
   "execution_count": 46,
   "id": "fa0f4cc4",
   "metadata": {},
   "outputs": [
    {
     "data": {
      "text/plain": [
       "3362209"
      ]
     },
     "execution_count": 46,
     "metadata": {},
     "output_type": "execute_result"
    }
   ],
   "source": [
    "# northRegionInitialData.count()"
   ]
  },
  {
   "cell_type": "code",
   "execution_count": 55,
   "id": "79758c45",
   "metadata": {},
   "outputs": [],
   "source": [
    "northRegionInitialData = northRegionInitialData.drop(\"region\", \"state\", \"station\", \"station_code\", \"latitude\", \"longitude\", \"height\")"
   ]
  },
  {
   "cell_type": "code",
   "execution_count": 56,
   "id": "aa426841",
   "metadata": {},
   "outputs": [
    {
     "name": "stdout",
     "output_type": "stream",
     "text": [
      "+-----+----------+-----+-------------------+--------------------------------------+--------------------------+--------------------------+---------+---------------+---------------------+-----------------------------+-----------------------------+---------------------------------+---------------------------------+--------------------------+--------------------------+--------------------------------+--------------------------------+---------------------------+----------+\n",
      "|index|      date| hour|total_precipitation|atmospheric_pressure_at_station_height|pressure_max_previous_hour|pressure_min_previous_hour|radiation|air_temperature|dew_point_temperature|max_temperature_previous_hour|min_temperature_previous_hour|max_dew_temperature_previous_hour|min_dew_temperature_previous_hour|humidity_max_previous_hour|humidity_min_previous_hour|air_relative_humidity_percentage|wind_direction_meters_per_second|wind_gust_meters_per_second|wind_speed|\n",
      "+-----+----------+-----+-------------------+--------------------------------------+--------------------------+--------------------------+---------+---------------+---------------------+-----------------------------+-----------------------------+---------------------------------+---------------------------------+--------------------------+--------------------------+--------------------------------+--------------------------------+---------------------------+----------+\n",
      "|   21|2000-05-09|21:00|                0.0|                                1002.6|                    1002.8|                    1002.6|      386|           29.4|                 23.1|                         29.8|                         29.4|                             23.3|                             22.6|                        69|                        65|                              69|                              96|                        2.9|       0.8|\n",
      "+-----+----------+-----+-------------------+--------------------------------------+--------------------------+--------------------------+---------+---------------+---------------------+-----------------------------+-----------------------------+---------------------------------+---------------------------------+--------------------------+--------------------------+--------------------------------+--------------------------------+---------------------------+----------+\n",
      "only showing top 1 row\n",
      "\n"
     ]
    }
   ],
   "source": [
    "northRegionInitialData.show(1)"
   ]
  },
  {
   "cell_type": "code",
   "execution_count": 57,
   "id": "ee1e1239",
   "metadata": {},
   "outputs": [],
   "source": [
    "northRegionInitialDataUnEdited = northRegionInitialData"
   ]
  },
  {
   "cell_type": "markdown",
   "id": "4007e504",
   "metadata": {},
   "source": [
    "This weather dataset starts at 2000-05. There is no data from 1999, but there is data up to and including 2021-04. There is no data in 2022."
   ]
  },
  {
   "cell_type": "markdown",
   "id": "35f79d3c",
   "metadata": {},
   "source": [
    "Below is the main function which formats the data into the way we want it. We loop over all years with data, 2000-2021, and average out all values by month and year. This effectively means we are taking averages of each of the values over individual months. This will leave us with 12 months * 22 years = 264 data points for each region. There are five regions. "
   ]
  },
  {
   "cell_type": "code",
   "execution_count": 68,
   "id": "e837021d",
   "metadata": {},
   "outputs": [],
   "source": [
    "averagesInListFormat2000To2021 = []\n",
    "year = 2000\n",
    "while year < 2022:\n",
    "    for month in range(9):\n",
    "        month+=1\n",
    "        northRegionInitialData = northRegionInitialDataUnEdited\n",
    "        northRegionInitialData = northRegionInitialData.filter(northRegionInitialData.date.contains(str(year) + '-0' + str(month) + '-'))\n",
    "        averagesInListFormat2000To2021.append(northRegionInitialData.agg({'total_precipitation': 'avg', 'atmospheric_pressure_at_station_height': 'avg', 'pressure_max_previous_hour': 'avg', 'pressure_min_previous_hour': 'avg', 'radiation': 'avg', 'air_temperature': 'avg', 'dew_point_temperature': 'avg', 'max_temperature_previous_hour': 'avg', 'min_temperature_previous_hour': 'avg', 'max_dew_temperature_previous_hour': 'avg', 'min_dew_temperature_previous_hour': 'avg', 'humidity_max_previous_hour': 'avg', 'humidity_min_previous_hour': 'avg', 'air_relative_humidity_percentage': 'avg', 'wind_direction_meters_per_second': 'avg', 'wind_gust_meters_per_second': 'avg', 'wind_speed': 'avg'}).collect()[0])\n",
    "\n",
    "    northRegionInitialData = northRegionInitialDataUnEdited\n",
    "    northRegionInitialData = northRegionInitialData.filter(northRegionInitialData.date.contains(str(year) + '-10' + '-'))\n",
    "    averagesInListFormat2000To2021.append(northRegionInitialData.agg({'total_precipitation': 'avg', 'atmospheric_pressure_at_station_height': 'avg', 'pressure_max_previous_hour': 'avg', 'pressure_min_previous_hour': 'avg', 'radiation': 'avg', 'air_temperature': 'avg', 'dew_point_temperature': 'avg', 'max_temperature_previous_hour': 'avg', 'min_temperature_previous_hour': 'avg', 'max_dew_temperature_previous_hour': 'avg', 'min_dew_temperature_previous_hour': 'avg', 'humidity_max_previous_hour': 'avg', 'humidity_min_previous_hour': 'avg', 'air_relative_humidity_percentage': 'avg', 'wind_direction_meters_per_second': 'avg', 'wind_gust_meters_per_second': 'avg', 'wind_speed': 'avg'}).collect()[0])        \n",
    "    \n",
    "    northRegionInitialData = northRegionInitialDataUnEdited\n",
    "    northRegionInitialData = northRegionInitialData.filter(northRegionInitialData.date.contains(str(year) + '-11' + '-'))\n",
    "    averagesInListFormat2000To2021.append(northRegionInitialData.agg({'total_precipitation': 'avg', 'atmospheric_pressure_at_station_height': 'avg', 'pressure_max_previous_hour': 'avg', 'pressure_min_previous_hour': 'avg', 'radiation': 'avg', 'air_temperature': 'avg', 'dew_point_temperature': 'avg', 'max_temperature_previous_hour': 'avg', 'min_temperature_previous_hour': 'avg', 'max_dew_temperature_previous_hour': 'avg', 'min_dew_temperature_previous_hour': 'avg', 'humidity_max_previous_hour': 'avg', 'humidity_min_previous_hour': 'avg', 'air_relative_humidity_percentage': 'avg', 'wind_direction_meters_per_second': 'avg', 'wind_gust_meters_per_second': 'avg', 'wind_speed': 'avg'}).collect()[0])\n",
    "        \n",
    "        \n",
    "    northRegionInitialData = northRegionInitialDataUnEdited\n",
    "    northRegionInitialData = northRegionInitialData.filter(northRegionInitialData.date.contains(str(year) + '-12' + '-'))\n",
    "    averagesInListFormat2000To2021.append(northRegionInitialData.agg({'total_precipitation': 'avg', 'atmospheric_pressure_at_station_height': 'avg', 'pressure_max_previous_hour': 'avg', 'pressure_min_previous_hour': 'avg', 'radiation': 'avg', 'air_temperature': 'avg', 'dew_point_temperature': 'avg', 'max_temperature_previous_hour': 'avg', 'min_temperature_previous_hour': 'avg', 'max_dew_temperature_previous_hour': 'avg', 'min_dew_temperature_previous_hour': 'avg', 'humidity_max_previous_hour': 'avg', 'humidity_min_previous_hour': 'avg', 'air_relative_humidity_percentage': 'avg', 'wind_direction_meters_per_second': 'avg', 'wind_gust_meters_per_second': 'avg', 'wind_speed': 'avg'}).collect()[0])\n",
    "    \n",
    "    year+=1"
   ]
  },
  {
   "cell_type": "code",
   "execution_count": 69,
   "id": "0337e8c9",
   "metadata": {},
   "outputs": [
    {
     "name": "stdout",
     "output_type": "stream",
     "text": [
      "264\n"
     ]
    }
   ],
   "source": [
    "print(len(averagesInListFormat2000To2021))"
   ]
  },
  {
   "cell_type": "code",
   "execution_count": 72,
   "id": "98603a5f",
   "metadata": {},
   "outputs": [
    {
     "data": {
      "text/plain": [
       "Row(avg(dew_point_temperature)=22.747106705351367, avg(wind_direction_meters_per_second)=166.1942295293359, avg(radiation)=1071.5106382978724, avg(min_temperature_previous_hour)=26.35620567375887, avg(atmospheric_pressure_at_station_height)=992.4186331399077, avg(pressure_min_previous_hour)=992.0095099935495, avg(total_precipitation)=0.3196808510638284, avg(max_dew_temperature_previous_hour)=23.347558027079298, avg(wind_gust_meters_per_second)=3.6982914248871737, avg(air_temperature)=27.09333494519663, avg(wind_speed)=1.2781753707285635, avg(max_temperature_previous_hour)=27.734840425531875, avg(humidity_min_previous_hour)=75.29867827208253, avg(pressure_max_previous_hour)=992.9063265635054, avg(humidity_max_previous_hour)=82.35726950354609, avg(air_relative_humidity_percentage)=78.65385235332045, avg(min_dew_temperature_previous_hour)=22.154529335912336)"
      ]
     },
     "execution_count": 72,
     "metadata": {},
     "output_type": "execute_result"
    }
   ],
   "source": [
    "averagesInListFormat2000To2021[255]"
   ]
  },
  {
   "cell_type": "markdown",
   "id": "ac7b962f",
   "metadata": {},
   "source": [
    "Now we write out the data to a csv file so we can combine them all. We do this for each region: north, south, west, southeast, and northeast."
   ]
  },
  {
   "cell_type": "code",
   "execution_count": null,
   "id": "68a048cb",
   "metadata": {},
   "outputs": [],
   "source": [
    "header = ['time_stamp', 'dew_point_temperature', 'wind_direction_meters_per_second', 'radiation', 'min_temperature_previous_hour', 'atmospheric_pressure_at_station_height', 'pressure_min_previous_hour','max_dew_temperature_previous_hour','wind_gust_meters_per_second','air_temperature','wind_speed','max_temperature_previous_hour','humidity_min_previous_hour','pressure_max_previous_hour','humidity_max_previous_hour','air_relative_humidity_percentage','min_dew_temperature_previous_hour','total_precipitation']\n",
    "\n",
    "with open('southRegionAllFeatures.csv', 'w', newline='') as file:\n",
    "    write = csv.writer(file)\n",
    "    write.writerow(header)\n",
    "    i = 0\n",
    "    for row in averagesInListFormat2000To2021:\n",
    "        write.writerow([timestamp[i], row[0], row[1], row[2], row[3], row[4], row[5], row[7], row[8],row[9], row[10], row[11], row[12], row[13], row[14], row[15], row[16], row[6]])\n",
    "        i = i + 1"
   ]
  },
  {
   "cell_type": "code",
   "execution_count": 43,
   "id": "a71d4e6a",
   "metadata": {},
   "outputs": [],
   "source": [
    "with open('southRegionAllFeatures.csv', newline='') as readfile:\n",
    "    reader = csv.reader(readfile)\n",
    "    data = tuple(reader)"
   ]
  }
 ],
 "metadata": {
  "kernelspec": {
   "display_name": "Python 3",
   "language": "python",
   "name": "python3"
  },
  "language_info": {
   "codemirror_mode": {
    "name": "ipython",
    "version": 3
   },
   "file_extension": ".py",
   "mimetype": "text/x-python",
   "name": "python",
   "nbconvert_exporter": "python",
   "pygments_lexer": "ipython3",
   "version": "3.8.8"
  }
 },
 "nbformat": 4,
 "nbformat_minor": 5
}
