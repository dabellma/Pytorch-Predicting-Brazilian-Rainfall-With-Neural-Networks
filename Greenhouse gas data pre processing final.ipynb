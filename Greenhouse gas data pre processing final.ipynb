{
 "cells": [
  {
   "cell_type": "code",
   "execution_count": 31,
   "id": "e2bff8b9",
   "metadata": {},
   "outputs": [],
   "source": [
    "import findspark\n",
    "findspark.init()"
   ]
  },
  {
   "cell_type": "code",
   "execution_count": 32,
   "id": "dfb75e47",
   "metadata": {},
   "outputs": [],
   "source": [
    "import pyspark # only run after findspark.init()\n",
    "import pandas as pd\n",
    "from pyspark.sql import SparkSession\n",
    "import csv"
   ]
  },
  {
   "cell_type": "code",
   "execution_count": 33,
   "id": "dacba955",
   "metadata": {},
   "outputs": [],
   "source": [
    "sc = SparkSession.builder.master(\"local\").getOrCreate()\n",
    "# sc = SparkSession.builder.master(\"spark://cheyenne:30915\").getOrCreate()"
   ]
  },
  {
   "cell_type": "markdown",
   "id": "f4f1a556",
   "metadata": {},
   "source": [
    "Read the data into a pyspark dataframe."
   ]
  },
  {
   "cell_type": "code",
   "execution_count": 34,
   "id": "78aa6791",
   "metadata": {},
   "outputs": [],
   "source": [
    "greenhouseGasInitialData = sc.read.csv(\"owid-co2-data.csv\")"
   ]
  },
  {
   "cell_type": "markdown",
   "id": "55a90b19",
   "metadata": {},
   "source": [
    "Rename and drop unneeded columns per our feature selection decisions."
   ]
  },
  {
   "cell_type": "code",
   "execution_count": 35,
   "id": "2fd706d9",
   "metadata": {},
   "outputs": [],
   "source": [
    "greenhouseGasInitialData = greenhouseGasInitialData.withColumnRenamed(\"_c0\", \"iso_code\")\n",
    "greenhouseGasInitialData = greenhouseGasInitialData.withColumnRenamed(\"_c1\", \"country\")\n",
    "greenhouseGasInitialData = greenhouseGasInitialData.withColumnRenamed(\"_c2\", \"year\")\n",
    "greenhouseGasInitialData = greenhouseGasInitialData.withColumnRenamed(\"_c3\", \"co2\")\n",
    "greenhouseGasInitialData = greenhouseGasInitialData.withColumnRenamed(\"_c4\", \"co2_per_capita\")\n",
    "greenhouseGasInitialData = greenhouseGasInitialData.withColumnRenamed(\"_c5\", \"trade_co2\")\n",
    "greenhouseGasInitialData = greenhouseGasInitialData.withColumnRenamed(\"_c6\", \"cement_co2\")\n",
    "greenhouseGasInitialData = greenhouseGasInitialData.withColumnRenamed(\"_c7\", \"cement_co2_per_capita\")\n",
    "greenhouseGasInitialData = greenhouseGasInitialData.withColumnRenamed(\"_c8\", \"coal_co2\")\n",
    "greenhouseGasInitialData = greenhouseGasInitialData.withColumnRenamed(\"_c9\", \"coal_co2_per_capita\")\n",
    "greenhouseGasInitialData = greenhouseGasInitialData.withColumnRenamed(\"_c10\", \"flaring_co2\")\n",
    "greenhouseGasInitialData = greenhouseGasInitialData.withColumnRenamed(\"_c11\", \"flaring_co2_per_capita\")\n",
    "greenhouseGasInitialData = greenhouseGasInitialData.withColumnRenamed(\"_c12\", \"gas_co2\")\n",
    "greenhouseGasInitialData = greenhouseGasInitialData.withColumnRenamed(\"_c13\", \"gas_co2_per_capita\")\n",
    "greenhouseGasInitialData = greenhouseGasInitialData.withColumnRenamed(\"_c14\", \"oil_co2\")\n",
    "greenhouseGasInitialData = greenhouseGasInitialData.withColumnRenamed(\"_c15\", \"oil_co2_per_capita\")\n",
    "greenhouseGasInitialData = greenhouseGasInitialData.withColumnRenamed(\"_c16\", \"other_industry_co2\")\n",
    "greenhouseGasInitialData = greenhouseGasInitialData.withColumnRenamed(\"_c17\", \"other_co2_per_capita\")\n",
    "greenhouseGasInitialData = greenhouseGasInitialData.withColumnRenamed(\"_c18\", \"co2_growth_prct\")\n",
    "greenhouseGasInitialData = greenhouseGasInitialData.withColumnRenamed(\"_c19\", \"co2_growth_abs\")\n",
    "greenhouseGasInitialData = greenhouseGasInitialData.withColumnRenamed(\"_c20\", \"co2_per_gdp\")\n",
    "greenhouseGasInitialData = greenhouseGasInitialData.withColumnRenamed(\"_c21\", \"co2_per_unit_energy\")\n",
    "greenhouseGasInitialData = greenhouseGasInitialData.withColumnRenamed(\"_c22\", \"consumption_co2\")\n",
    "greenhouseGasInitialData = greenhouseGasInitialData.withColumnRenamed(\"_c23\", \"consumption_co2_per_capita\")\n",
    "greenhouseGasInitialData = greenhouseGasInitialData.withColumnRenamed(\"_c24\", \"consumption_co2_per_gdp\")\n",
    "greenhouseGasInitialData = greenhouseGasInitialData.withColumnRenamed(\"_c25\", \"cumulative_co2\")\n",
    "greenhouseGasInitialData = greenhouseGasInitialData.withColumnRenamed(\"_c26\", \"cumulative_cement_co2\")\n",
    "greenhouseGasInitialData = greenhouseGasInitialData.withColumnRenamed(\"_c27\", \"cumulative_coal_co2\")\n",
    "greenhouseGasInitialData = greenhouseGasInitialData.withColumnRenamed(\"_c28\", \"cumulative_flaring_co2\")\n",
    "greenhouseGasInitialData = greenhouseGasInitialData.withColumnRenamed(\"_c29\", \"cumulative_gas_co2\")\n",
    "greenhouseGasInitialData = greenhouseGasInitialData.withColumnRenamed(\"_c30\", \"cumulative_oil_co2\")\n",
    "greenhouseGasInitialData = greenhouseGasInitialData.withColumnRenamed(\"_c31\", \"cumulative_other_co2\")\n",
    "greenhouseGasInitialData = greenhouseGasInitialData.withColumnRenamed(\"_c32\", \"trade_co2_share\")\n",
    "greenhouseGasInitialData = greenhouseGasInitialData.withColumnRenamed(\"_c33\", \"share_global_co2\")\n",
    "greenhouseGasInitialData = greenhouseGasInitialData.withColumnRenamed(\"_c34\", \"share_global_cement_co2\")\n",
    "greenhouseGasInitialData = greenhouseGasInitialData.withColumnRenamed(\"_c35\", \"share_global_coal_co2\")\n",
    "greenhouseGasInitialData = greenhouseGasInitialData.withColumnRenamed(\"_c36\", \"share_global_flaring_co2\")\n",
    "greenhouseGasInitialData = greenhouseGasInitialData.withColumnRenamed(\"_c37\", \"share_global_gas_co2\")\n",
    "greenhouseGasInitialData = greenhouseGasInitialData.withColumnRenamed(\"_c38\", \"share_global_oil_co2\")\n",
    "greenhouseGasInitialData = greenhouseGasInitialData.withColumnRenamed(\"_c39\", \"share_global_other_co2\")\n",
    "greenhouseGasInitialData = greenhouseGasInitialData.withColumnRenamed(\"_c40\", \"share_global_cumulative_co2\")\n",
    "greenhouseGasInitialData = greenhouseGasInitialData.withColumnRenamed(\"_c41\", \"share_global_cumulative_cement_co2\")\n",
    "greenhouseGasInitialData = greenhouseGasInitialData.withColumnRenamed(\"_c42\", \"share_global_cumulative_coal_co2\")\n",
    "greenhouseGasInitialData = greenhouseGasInitialData.withColumnRenamed(\"_c43\", \"share_global_cumulative_flaring_co2\")\n",
    "greenhouseGasInitialData = greenhouseGasInitialData.withColumnRenamed(\"_c44\", \"share_global_cumulative_gas_co2\")\n",
    "greenhouseGasInitialData = greenhouseGasInitialData.withColumnRenamed(\"_c45\", \"share_global_cumulative_oil_co2\")\n",
    "greenhouseGasInitialData = greenhouseGasInitialData.withColumnRenamed(\"_c46\", \"share_global_cumulative_other_co2\")\n",
    "greenhouseGasInitialData = greenhouseGasInitialData.withColumnRenamed(\"_c47\", \"total_ghg\")\n",
    "greenhouseGasInitialData = greenhouseGasInitialData.withColumnRenamed(\"_c48\", \"ghg_per_capita\")\n",
    "greenhouseGasInitialData = greenhouseGasInitialData.withColumnRenamed(\"_c49\", \"total_ghg_excluding_lucf\")\n",
    "greenhouseGasInitialData = greenhouseGasInitialData.withColumnRenamed(\"_c50\", \"ghg_excluding_lucf_per_capita\")\n",
    "greenhouseGasInitialData = greenhouseGasInitialData.withColumnRenamed(\"_c51\", \"methane\")\n",
    "greenhouseGasInitialData = greenhouseGasInitialData.withColumnRenamed(\"_c52\", \"methane_per_capita\")\n",
    "greenhouseGasInitialData = greenhouseGasInitialData.withColumnRenamed(\"_c53\", \"nitrous_oxide\")\n",
    "greenhouseGasInitialData = greenhouseGasInitialData.withColumnRenamed(\"_c54\", \"nitrous_oxide_per_capita\")\n",
    "greenhouseGasInitialData = greenhouseGasInitialData.withColumnRenamed(\"_c55\", \"population\")\n",
    "greenhouseGasInitialData = greenhouseGasInitialData.withColumnRenamed(\"_c56\", \"gdp\")\n",
    "greenhouseGasInitialData = greenhouseGasInitialData.withColumnRenamed(\"_c57\", \"primary_energy_consumption\")\n",
    "greenhouseGasInitialData = greenhouseGasInitialData.withColumnRenamed(\"_c58\", \"energy_per_capita\")\n",
    "greenhouseGasInitialData = greenhouseGasInitialData.withColumnRenamed(\"_c59\", \"energy_per_gdp\")"
   ]
  },
  {
   "cell_type": "code",
   "execution_count": 36,
   "id": "c34ed531",
   "metadata": {},
   "outputs": [],
   "source": [
    "greenhouseGasInitialData = greenhouseGasInitialData.drop(\"iso_code\", \"co2_per_capita\", \"trade_co2\", \"cement_co2\", \"cement_co2_per_capita\", \"coal_co2\", \n",
    "                    \"coal_co2_per_capita\", \"flaring_co2\", \"flaring_co2_per_capita\", \"gas_co2\", \"gas_co2_per_capita\",\n",
    "                   \"oil_co2\", \"oil_co2_per_capita\", \"other_industry_co2\", \"other_co2_per_capita\",\n",
    "                   \"co2_growth_prct\", \"co2_growth_abs\", \"co2_per_gdp\", \"co2_per_unit_energy\", \"consumption_co2\",\n",
    "                   \"consumption_co2_per_capita\", \"consumption_co2_per_gdp\", \"cumulative_cement_co2\",\n",
    "                   \"cumulative_coal_co2\", \"cumulative_flaring_co2\", \"cumulative_gas_co2\", \"cumulative_oil_co2\",\n",
    "                   \"cumulative_other_co2\", \"trade_co2_share\", \"share_global_co2\", \"share_global_cement_co2\",\n",
    "                   \"share_global_coal_co2\", \"share_global_flaring_co2\", \"share_global_gas_co2\", \"share_global_oil_co2\",\n",
    "                   \"share_global_other_co2\", \"share_global_cumulative_co2\", \"share_global_cumulative_cement_co2\", \n",
    "                    \"share_global_cumulative_coal_co2\",\n",
    "                   \"share_global_cumulative_flaring_co2\", \"share_global_cumulative_gas_co2\", \"share_global_cumulative_oil_co2\",\n",
    "                    \"share_global_cumulative_other_co2\",\n",
    "                   \"ghg_per_capita\", \"total_ghg_excluding_lucf\", \"ghg_excluding_lucf_per_capita\",\n",
    "                   \"methane_per_capita\", \"nitrous_oxide_per_capita\",\n",
    "                   \"population\", \"gdp\", \"energy_per_capita\", \"energy_per_gdp\", \"primary_energy_consumption\", \n",
    "                    \"iso_code\", \"total_ghg\")"
   ]
  },
  {
   "cell_type": "code",
   "execution_count": 37,
   "id": "a7a602df",
   "metadata": {},
   "outputs": [
    {
     "data": {
      "text/plain": [
       "pyspark.sql.dataframe.DataFrame"
      ]
     },
     "execution_count": 37,
     "metadata": {},
     "output_type": "execute_result"
    }
   ],
   "source": [
    "type(greenhouseGasInitialData)"
   ]
  },
  {
   "cell_type": "code",
   "execution_count": 38,
   "id": "99856498",
   "metadata": {},
   "outputs": [],
   "source": [
    "greenhouseGasInitialDataFiltered = greenhouseGasInitialData.filter(\"year > 1998\")\n",
    "greenhouseGasInitialDataFiltered = greenhouseGasInitialDataFiltered.filter(\"year < 2022\")"
   ]
  },
  {
   "cell_type": "code",
   "execution_count": 39,
   "id": "af5f4141",
   "metadata": {},
   "outputs": [],
   "source": [
    "#get rid of none values\n",
    "greenhouseGasInitialDataFiltered = greenhouseGasInitialDataFiltered.filter(\"co2 != 'None'\")\n",
    "greenhouseGasInitialDataFiltered = greenhouseGasInitialDataFiltered.filter(\"cumulative_co2 != 'None'\")\n",
    "greenhouseGasInitialDataFiltered = greenhouseGasInitialDataFiltered.filter(\"methane != 'None'\")\n",
    "greenhouseGasInitialDataFiltered = greenhouseGasInitialDataFiltered.filter(\"nitrous_oxide != 'None'\")"
   ]
  },
  {
   "cell_type": "code",
   "execution_count": 40,
   "id": "8566cc7d",
   "metadata": {},
   "outputs": [
    {
     "data": {
      "text/plain": [
       "3897"
      ]
     },
     "execution_count": 40,
     "metadata": {},
     "output_type": "execute_result"
    }
   ],
   "source": [
    "greenhouseGasInitialDataFiltered.count()"
   ]
  },
  {
   "cell_type": "code",
   "execution_count": 12,
   "id": "baa173e7",
   "metadata": {},
   "outputs": [],
   "source": [
    "greenhouseGasInitialDataFilteredCollected = greenhouseGasInitialDataFiltered.collect()"
   ]
  },
  {
   "cell_type": "markdown",
   "id": "4267024f",
   "metadata": {},
   "source": [
    "We want to match these greenhouse gases up with the weather data set. The north region Brazilian weather data set starts at 2000-05 (May of 2000). There is no data from 1999 in the weather dataset, but there is data up to and including 2021-04. There is no data for 2022.\n",
    "\n",
    "There is no data in the GHG dataset for 2021 or 2022.\n",
    "There is no data for methane or nitrous oxide after 2018, but it does have 2018.\n",
    "Therefore, we essentially gather data points for 2000-2018 and then extrapolate 2019, 2020, and 2021 to match up with the weather datasets."
   ]
  },
  {
   "cell_type": "code",
   "execution_count": 14,
   "id": "f8d3e166",
   "metadata": {},
   "outputs": [],
   "source": [
    "greenhouseGasDataFilteredUnEdited = greenhouseGasInitialDataFiltered"
   ]
  },
  {
   "cell_type": "code",
   "execution_count": 15,
   "id": "b6b33719",
   "metadata": {},
   "outputs": [],
   "source": [
    "averagesInListFormat1999To2018 = []\n",
    "year = 1999\n",
    "while year < 2019:\n",
    "\n",
    "    greenhouseGasInitialDataFilteredCollected = greenhouseGasDataFilteredUnEdited\n",
    "    greenhouseGasInitialDataFilteredCollected = greenhouseGasInitialDataFilteredCollected.filter(greenhouseGasInitialDataFilteredCollected.year.contains(str(year)))\n",
    "    averagesInListFormat1999To2018.append(greenhouseGasInitialDataFilteredCollected.agg({'co2': 'avg', 'cumulative_co2': 'avg', 'methane': 'avg', 'nitrous_oxide': 'avg'}).collect()[0])\n",
    "\n",
    "    year+=1"
   ]
  },
  {
   "cell_type": "code",
   "execution_count": 225,
   "id": "be39d6f5",
   "metadata": {},
   "outputs": [
    {
     "data": {
      "text/plain": [
       "[Row(avg(cumulative_co2)=11511.07836082474, avg(co2)=265.89206701030935, avg(nitrous_oxide)=27.672010309278345, avg(methane)=74.93850515463916),\n",
       " Row(avg(cumulative_co2)=11784.229247422683, avg(co2)=273.1509329896907, avg(nitrous_oxide)=27.528350515463917, avg(methane)=74.6510824742268),\n",
       " Row(avg(cumulative_co2)=12059.934247422683, avg(co2)=275.7049793814432, avg(nitrous_oxide)=27.730670103092788, avg(methane)=74.49737113402061),\n",
       " Row(avg(cumulative_co2)=12278.275933333334, avg(co2)=280.1875025641026, avg(nitrous_oxide)=28.108769230769237, avg(methane)=75.9751794871795),\n",
       " Row(avg(cumulative_co2)=12572.25496923077, avg(co2)=293.97903589743584, avg(nitrous_oxide)=28.420358974358972, avg(methane)=76.2288717948718),\n",
       " Row(avg(cumulative_co2)=12878.802599999995, avg(co2)=306.54758974358964, avg(nitrous_oxide)=29.197538461538468, avg(methane)=78.12897435897438),\n",
       " Row(avg(cumulative_co2)=13194.991758974358, avg(co2)=316.1891794871795, avg(nitrous_oxide)=29.238307692307693, avg(methane)=77.96420512820512),\n",
       " Row(avg(cumulative_co2)=13520.981712820518, avg(co2)=325.98994358974363, avg(nitrous_oxide)=29.462410256410248, avg(methane)=80.14923076923078),\n",
       " Row(avg(cumulative_co2)=13855.761487179487, avg(co2)=334.779841025641, avg(nitrous_oxide)=30.147846153846167, avg(methane)=80.03733333333334),\n",
       " Row(avg(cumulative_co2)=14195.978292307695, avg(co2)=340.2167641025641, avg(nitrous_oxide)=29.800256410256406, avg(methane)=80.99261538461539),\n",
       " Row(avg(cumulative_co2)=14530.25732820513, avg(co2)=334.2790820512821, avg(nitrous_oxide)=29.679538461538467, avg(methane)=81.93476923076925),\n",
       " Row(avg(cumulative_co2)=14882.461451282054, avg(co2)=352.2041384615384, avg(nitrous_oxide)=30.36692307692308, avg(methane)=82.36246153846155),\n",
       " Row(avg(cumulative_co2)=15245.509641025643, avg(co2)=363.04822051282054, avg(nitrous_oxide)=31.019897435897438, avg(methane)=83.52364102564104),\n",
       " Row(avg(cumulative_co2)=15613.443076923078, avg(co2)=367.9334153846154, avg(nitrous_oxide)=31.22841025641026, avg(methane)=84.25138461538464),\n",
       " Row(avg(cumulative_co2)=15984.0343948718, avg(co2)=370.59133333333324, avg(nitrous_oxide)=31.030205128205136, avg(methane)=84.16261538461539),\n",
       " Row(avg(cumulative_co2)=16356.426235897436, avg(co2)=372.39185128205133, avg(nitrous_oxide)=31.498410256410263, avg(methane)=85.77205128205134),\n",
       " Row(avg(cumulative_co2)=16728.484789743594, avg(co2)=372.05850769230767, avg(nitrous_oxide)=31.839794871794886, avg(methane)=86.5899487179487),\n",
       " Row(avg(cumulative_co2)=17100.031482051283, avg(co2)=371.546676923077, avg(nitrous_oxide)=32.14276923076923, avg(methane)=85.85933333333337),\n",
       " Row(avg(cumulative_co2)=17476.307210256407, avg(co2)=376.27580000000006, avg(nitrous_oxide)=32.66235897435899, avg(methane)=86.42671794871796),\n",
       " Row(avg(cumulative_co2)=17859.435912820514, avg(co2)=383.12869743589744, avg(nitrous_oxide)=32.50128205128205, avg(methane)=87.12261538461537)]"
      ]
     },
     "execution_count": 225,
     "metadata": {},
     "output_type": "execute_result"
    }
   ],
   "source": [
    "averagesInListFormat1999To2018 "
   ]
  },
  {
   "cell_type": "markdown",
   "id": "1bca7c0f",
   "metadata": {},
   "source": [
    "We write the data to an intermediate csv (which we won't turn in unless requested).\n",
    "This just makes it easy to bring the data in as tuples."
   ]
  },
  {
   "cell_type": "code",
   "execution_count": 226,
   "id": "fe52b3ab",
   "metadata": {},
   "outputs": [],
   "source": [
    "with open('greenHouseGasAveragesFeatures.csv', 'w', newline='') as file:\n",
    "    write = csv.writer(file)\n",
    "    \n",
    "    for row in averagesInListFormat1999To2018:\n",
    "            write.writerow([row[0], row[1], row[2], row[3]])"
   ]
  },
  {
   "cell_type": "code",
   "execution_count": 17,
   "id": "f9925ce8",
   "metadata": {},
   "outputs": [],
   "source": [
    "with open('greenHouseGasAveragesFeatures.csv', newline='') as readfile:\n",
    "    reader = csv.reader(readfile)\n",
    "    dataFromCSV = tuple(reader)"
   ]
  },
  {
   "cell_type": "code",
   "execution_count": 18,
   "id": "6a6830fb",
   "metadata": {},
   "outputs": [],
   "source": [
    "dataFromCSV = [[float(line[0]), float(line[1]), float(line[2]), float(line[3])] for line in dataFromCSV]"
   ]
  },
  {
   "cell_type": "code",
   "execution_count": 24,
   "id": "6edb5ff9",
   "metadata": {},
   "outputs": [
    {
     "data": {
      "text/plain": [
       "20"
      ]
     },
     "execution_count": 24,
     "metadata": {},
     "output_type": "execute_result"
    }
   ],
   "source": [
    "len(dataFromCSV)"
   ]
  },
  {
   "cell_type": "markdown",
   "id": "3922f31e",
   "metadata": {},
   "source": [
    "In the following cells, we take the data for 20 years, from 1999 to 2018, and extrapolate this data to be monthly instead\n",
    "of yearly\n",
    "We also extrapolate the data to 2019, 2020, and 2021 to match up with the Brazilian weather dataset.\n",
    "We do it for each of the 4 columns: cumulative co2, co2, nitrous oxide, and methane."
   ]
  },
  {
   "cell_type": "markdown",
   "id": "c59aaf1c",
   "metadata": {},
   "source": [
    "Dec 31 of 1999 would be 11511.07836082474 <br>\n",
    "Dec 31 of 2000 would be 11784.229247422683 <br>\n",
    "Jan 31 of 2000 would be 11511.07836082474 + (dataFromCSV[1][0] - dataFromCSV[0][0]) / 12 <br>\n",
    "Feb 31 of 2000 would be 11511.07836082474 + 2(dataFromCSV[1][0] - dataFromCSV[0][0]) / 12 <br>\n",
    "Mar 31 of 2000 would be 11511.07836082474 + 3(dataFromCSV[1][0] - dataFromCSV[0][0]) / 12 <br>\n",
    ".... <br>\n",
    ".... <br>\n",
    "Dec 31 of 2000 would be 11511.07836082474 + 12*(dataFromCSV[1][0] - dataFromCSV[0][0]) / 12 = 11784.229247422683 <br>"
   ]
  },
  {
   "cell_type": "code",
   "execution_count": 25,
   "id": "a81d4a9f",
   "metadata": {},
   "outputs": [],
   "source": [
    "dataExtrapolatedJan2000ToDec2021 = []\n",
    "year = 0\n",
    "while year < 19:\n",
    "    for month in range(12):\n",
    "        dataExtrapolatedJan2000ToDec2021.append(dataFromCSV[year][0] + ((month+1) * (dataFromCSV[year+1][0] - dataFromCSV[year][0]) / 12))\n",
    "    year += 1"
   ]
  },
  {
   "cell_type": "code",
   "execution_count": 254,
   "id": "b9460da5",
   "metadata": {},
   "outputs": [],
   "source": [
    "# dataExtrapolatedJan2000ToDec2021 = []\n",
    "# year = 0\n",
    "# while year < 19:\n",
    "#     for month in range(12):\n",
    "#         dataExtrapolatedJan2000ToDec2021.append(dataFromCSV[year][1] + ((month+1) * (dataFromCSV[year+1][1] - dataFromCSV[year][1]) / 12))\n",
    "#     year += 1"
   ]
  },
  {
   "cell_type": "code",
   "execution_count": 256,
   "id": "78414d53",
   "metadata": {},
   "outputs": [],
   "source": [
    "# dataExtrapolatedJan2000ToDec2021 = []\n",
    "# year = 0\n",
    "# while year < 19:\n",
    "#     for month in range(12):\n",
    "#         dataExtrapolatedJan2000ToDec2021.append(dataFromCSV[year][2] + ((month+1) * (dataFromCSV[year+1][2] - dataFromCSV[year][2]) / 12))\n",
    "#     year += 1"
   ]
  },
  {
   "cell_type": "code",
   "execution_count": 258,
   "id": "c4b11abe",
   "metadata": {},
   "outputs": [],
   "source": [
    "# dataExtrapolatedJan2000ToDec2021 = []\n",
    "# year = 0\n",
    "# while year < 19:\n",
    "#     for month in range(12):\n",
    "#         dataExtrapolatedJan2000ToDec2021.append(dataFromCSV[year][3] + ((month+1) * (dataFromCSV[year+1][3] - dataFromCSV[year][3]) / 12))\n",
    "#     year += 1"
   ]
  },
  {
   "cell_type": "code",
   "execution_count": 42,
   "id": "912f4343",
   "metadata": {},
   "outputs": [
    {
     "data": {
      "text/plain": [
       "228"
      ]
     },
     "execution_count": 42,
     "metadata": {},
     "output_type": "execute_result"
    }
   ],
   "source": [
    "len(dataExtrapolatedJan2000ToDec2021) "
   ]
  },
  {
   "cell_type": "markdown",
   "id": "31770f00",
   "metadata": {},
   "source": [
    "Now we currently have 19 years, from 2000-2018, and write the data to files to intermediate files to extrapolate for the years 2019, 2020, and 2021. We won't turn in these intermediate files unless requested.\n",
    "We use a simple linear model (they are slightly nonlinear, so this is a source of error, but it was close enough that\n",
    "a linear function was the best fit to extrapolate for our purposes)."
   ]
  },
  {
   "cell_type": "code",
   "execution_count": 43,
   "id": "3b13d5c8",
   "metadata": {},
   "outputs": [],
   "source": [
    "with open('toExtrapolateCumulativeCO2v2.csv', 'w', newline='') as file:\n",
    "    write = csv.writer(file)\n",
    "    \n",
    "    for row in dataExtrapolatedJan2000ToDec2021:\n",
    "            write.writerow([row])"
   ]
  },
  {
   "cell_type": "code",
   "execution_count": null,
   "id": "ac32256a",
   "metadata": {},
   "outputs": [],
   "source": [
    "# with open('toExtrapolateCO2v2.csv', 'w', newline='') as file:\n",
    "#     write = csv.writer(file)\n",
    "    \n",
    "#     for row in dataExtrapolatedJan2000ToDec2021:\n",
    "#             write.writerow([row])"
   ]
  },
  {
   "cell_type": "code",
   "execution_count": null,
   "id": "5f9bbfba",
   "metadata": {},
   "outputs": [],
   "source": [
    "# with open('toExtrapolateNitrousOxidev2.csv', 'w', newline='') as file:\n",
    "#     write = csv.writer(file)\n",
    "    \n",
    "#     for row in dataExtrapolatedJan2000ToDec2021:\n",
    "#             write.writerow([row])"
   ]
  },
  {
   "cell_type": "code",
   "execution_count": null,
   "id": "629db80f",
   "metadata": {},
   "outputs": [],
   "source": [
    "# with open('toExtrapolateMethanev2.csv', 'w', newline='') as file:\n",
    "#     write = csv.writer(file)\n",
    "    \n",
    "#     for row in dataExtrapolatedJan2000ToDec2021:\n",
    "#             write.writerow([row])"
   ]
  },
  {
   "cell_type": "markdown",
   "id": "74e5e791",
   "metadata": {},
   "source": [
    "Now the data is saved to csv files, and we have 22 years worth of data: from 2000 to 2021. We can combine each\n",
    "of the 4 features into one big array to (later) combine with the weather dataset."
   ]
  },
  {
   "cell_type": "code",
   "execution_count": 260,
   "id": "4e8e4b8f",
   "metadata": {},
   "outputs": [],
   "source": [
    "with open('toExtrapolateCumulativeCO2v2.csv', newline='') as readfile:\n",
    "    reader = csv.reader(readfile)\n",
    "    cumulativeCO2Extrapolation = tuple(reader)"
   ]
  },
  {
   "cell_type": "code",
   "execution_count": 261,
   "id": "4af047bf",
   "metadata": {},
   "outputs": [],
   "source": [
    "with open('toExtrapolateCO2v2.csv', newline='') as readfile:\n",
    "    reader = csv.reader(readfile)\n",
    "    cO2Extrapolation = tuple(reader)"
   ]
  },
  {
   "cell_type": "code",
   "execution_count": 262,
   "id": "448c8a5b",
   "metadata": {},
   "outputs": [],
   "source": [
    "with open('toExtrapolateNitrousOxidev2.csv', newline='') as readfile:\n",
    "    reader = csv.reader(readfile)\n",
    "    nitrousOxideExtrapolation = tuple(reader)"
   ]
  },
  {
   "cell_type": "code",
   "execution_count": 263,
   "id": "27283aa8",
   "metadata": {},
   "outputs": [],
   "source": [
    "with open('toExtrapolateMethanev2.csv', newline='') as readfile:\n",
    "    reader = csv.reader(readfile)\n",
    "    methaneExtrapolation = tuple(reader)"
   ]
  },
  {
   "cell_type": "code",
   "execution_count": 264,
   "id": "184928c9",
   "metadata": {},
   "outputs": [],
   "source": [
    "cumulativeCO2Extrapolation = [float(line[0]) for line in cumulativeCO2Extrapolation]\n",
    "cO2Extrapolation = [float(line[0]) for line in cO2Extrapolation]\n",
    "nitrousOxideExtrapolation = [float(line[0]) for line in nitrousOxideExtrapolation]\n",
    "methaneExtrapolation = [float(line[0]) for line in methaneExtrapolation]"
   ]
  },
  {
   "cell_type": "code",
   "execution_count": 272,
   "id": "d098464b",
   "metadata": {},
   "outputs": [
    {
     "data": {
      "text/plain": [
       "264"
      ]
     },
     "execution_count": 272,
     "metadata": {},
     "output_type": "execute_result"
    }
   ],
   "source": [
    "extrapolatedData = list(map(list, zip(cumulativeCO2Extrapolation, cO2Extrapolation, nitrousOxideExtrapolation, methaneExtrapolation)))\n",
    "len(extrapolatedData)"
   ]
  },
  {
   "cell_type": "code",
   "execution_count": 273,
   "id": "09dd876b",
   "metadata": {},
   "outputs": [
    {
     "data": {
      "text/plain": [
       "[[11533.84093, 266.4969725, 27.66003866, 74.91455326],\n",
       " [11556.60351, 267.101878, 27.64806701, 74.89060137],\n",
       " [11579.36608, 267.7067835, 27.63609536, 74.86664948],\n",
       " [11602.12866, 268.311689, 27.62412371, 74.84269759],\n",
       " [11624.89123, 268.9165945, 27.61215206, 74.8187457],\n",
       " [11647.6538, 269.5215, 27.60018041, 74.79479381],\n",
       " [11670.41638, 270.1264055, 27.58820876, 74.77084192],\n",
       " [11693.17895, 270.731311, 27.57623711, 74.74689003],\n",
       " [11715.94153, 271.3362165, 27.56426546, 74.72293814],\n",
       " [11738.7041, 271.941122, 27.55229381, 74.69898625],\n",
       " [11761.46667, 272.5460275, 27.54032216, 74.67503436],\n",
       " [11784.22925, 273.150933, 27.52835052, 74.65108247],\n",
       " [11807.20466, 273.3637702, 27.54521048, 74.6382732],\n",
       " [11830.18008, 273.5766074, 27.56207045, 74.62546392],\n",
       " [11853.1555, 273.7894446, 27.57893041, 74.61265464],\n",
       " [11876.13091, 274.0022818, 27.59579038, 74.59984536],\n",
       " [11899.10633, 274.215119, 27.61265034, 74.58703608],\n",
       " [11922.08175, 274.4279562, 27.62951031, 74.5742268],\n",
       " [11945.05716, 274.6407934, 27.64637027, 74.56141753],\n",
       " [11968.03258, 274.8536306, 27.66323024, 74.54860825],\n",
       " [11991.008, 275.0664678, 27.68009021, 74.53579897],\n",
       " [12013.98341, 275.279305, 27.69695017, 74.52298969],\n",
       " [12036.95883, 275.4921422, 27.71381014, 74.51018041],\n",
       " [12059.93425, 275.7049794, 27.7306701, 74.49737113],\n",
       " [12078.12939, 276.078523, 27.76217836, 74.62052183],\n",
       " [12096.32453, 276.4520666, 27.79368662, 74.74367253],\n",
       " [12114.51967, 276.8256102, 27.82519489, 74.86682322],\n",
       " [12132.71481, 277.1991538, 27.85670315, 74.98997392],\n",
       " [12150.90995, 277.5726974, 27.88821141, 75.11312461],\n",
       " [12169.10509, 277.946241, 27.91971967, 75.23627531],\n",
       " [12187.30023, 278.3197846, 27.95122793, 75.35942601],\n",
       " [12205.49537, 278.6933282, 27.98273619, 75.4825767],\n",
       " [12223.69051, 279.0668718, 28.01424445, 75.6057274],\n",
       " [12241.88565, 279.4404154, 28.04575271, 75.72887809],\n",
       " [12260.08079, 279.813959, 28.07726097, 75.85202879],\n",
       " [12278.27593, 280.1875026, 28.10876923, 75.97517949],\n",
       " [12302.77419, 281.336797, 28.13473504, 75.99632051],\n",
       " [12327.27244, 282.4860915, 28.16070085, 76.01746154],\n",
       " [12351.77069, 283.6353859, 28.18666667, 76.03860256],\n",
       " [12376.26895, 284.7846803, 28.21263248, 76.05974359],\n",
       " [12400.7672, 285.9339748, 28.23859829, 76.08088462],\n",
       " [12425.26545, 287.0832692, 28.2645641, 76.10202564],\n",
       " [12449.7637, 288.2325637, 28.29052991, 76.12316667],\n",
       " [12474.26196, 289.3818581, 28.31649573, 76.14430769],\n",
       " [12498.76021, 290.5311526, 28.34246154, 76.16544872],\n",
       " [12523.25846, 291.680447, 28.36842735, 76.18658974],\n",
       " [12547.75672, 292.8297415, 28.39439316, 76.20773077],\n",
       " [12572.25497, 293.9790359, 28.42035897, 76.22887179],\n",
       " [12597.80061, 295.0264154, 28.48512393, 76.38721368],\n",
       " [12623.34624, 296.0737949, 28.54988889, 76.54555556],\n",
       " [12648.89188, 297.1211744, 28.61465385, 76.70389744],\n",
       " [12674.43751, 298.1685538, 28.6794188, 76.86223932],\n",
       " [12699.98315, 299.2159333, 28.74418376, 77.0205812],\n",
       " [12725.52878, 300.2633128, 28.80894872, 77.17892308],\n",
       " [12751.07442, 301.3106923, 28.87371368, 77.33726496],\n",
       " [12776.62006, 302.3580718, 28.93847863, 77.49560684],\n",
       " [12802.16569, 303.4054513, 29.00324359, 77.65394872],\n",
       " [12827.71133, 304.4528308, 29.06800855, 77.8122906],\n",
       " [12853.25696, 305.5002103, 29.1327735, 77.97063248],\n",
       " [12878.8026, 306.5475897, 29.19753846, 78.12897436],\n",
       " [12905.1517, 307.3510556, 29.2009359, 78.11524359],\n",
       " [12931.50079, 308.1545214, 29.20433333, 78.10151282],\n",
       " [12957.84989, 308.9579872, 29.20773077, 78.08778205],\n",
       " [12984.19899, 309.761453, 29.21112821, 78.07405128],\n",
       " [13010.54808, 310.5649188, 29.21452564, 78.06032051],\n",
       " [13036.89718, 311.3683846, 29.21792308, 78.04658974],\n",
       " [13063.24628, 312.1718504, 29.22132051, 78.03285897],\n",
       " [13089.59537, 312.9753162, 29.22471795, 78.01912821],\n",
       " [13115.94447, 313.7787821, 29.22811538, 78.00539744],\n",
       " [13142.29357, 314.5822479, 29.23151282, 77.99166667],\n",
       " [13168.64266, 315.3857137, 29.23491026, 77.9779359],\n",
       " [13194.99176, 316.1891795, 29.23830769, 77.96420513],\n",
       " [13222.15759, 317.0059098, 29.25698291, 78.1462906],\n",
       " [13249.32342, 317.8226402, 29.27565812, 78.32837607],\n",
       " [13276.48925, 318.6393705, 29.29433333, 78.51046154],\n",
       " [13303.65508, 319.4561009, 29.31300855, 78.69254701],\n",
       " [13330.82091, 320.2728312, 29.33168376, 78.87463248],\n",
       " [13357.98674, 321.0895615, 29.35035897, 79.05671795],\n",
       " [13385.15257, 321.9062919, 29.36903419, 79.23880342],\n",
       " [13412.31839, 322.7230222, 29.3877094, 79.42088889],\n",
       " [13439.48422, 323.5397526, 29.40638462, 79.60297436],\n",
       " [13466.65005, 324.3564829, 29.42505983, 79.78505983],\n",
       " [13493.81588, 325.1732132, 29.44373504, 79.9671453],\n",
       " [13520.98171, 325.9899436, 29.46241026, 80.14923077],\n",
       " [13548.88003, 326.722435, 29.51952991, 80.13990598],\n",
       " [13576.77834, 327.4549265, 29.57664957, 80.1305812],\n",
       " [13604.67666, 328.1874179, 29.63376923, 80.12125641],\n",
       " [13632.57497, 328.9199094, 29.69088889, 80.11193162],\n",
       " [13660.47329, 329.6524009, 29.74800855, 80.10260684],\n",
       " [13688.3716, 330.3848923, 29.80512821, 80.09328205],\n",
       " [13716.26991, 331.1173838, 29.86224786, 80.08395726],\n",
       " [13744.16823, 331.8498752, 29.91936752, 80.07463248],\n",
       " [13772.06654, 332.5823667, 29.97648718, 80.06530769],\n",
       " [13799.96486, 333.3148581, 30.03360684, 80.05598291],\n",
       " [13827.86317, 334.0473496, 30.0907265, 80.04665812],\n",
       " [13855.76149, 334.779841, 30.14784615, 80.03733333],\n",
       " [13884.11289, 335.2329179, 30.11888034, 80.11694017],\n",
       " [13912.46429, 335.6859949, 30.08991453, 80.19654701],\n",
       " [13940.81569, 336.1390718, 30.06094872, 80.27615385],\n",
       " [13969.16709, 336.5921487, 30.03198291, 80.35576068],\n",
       " [13997.51849, 337.0452256, 30.00301709, 80.43536752],\n",
       " [14025.86989, 337.4983026, 29.97405128, 80.51497436],\n",
       " [14054.22129, 337.9513795, 29.94508547, 80.5945812],\n",
       " [14082.57269, 338.4044564, 29.91611966, 80.67418803],\n",
       " [14110.92409, 338.8575333, 29.88715385, 80.75379487],\n",
       " [14139.27549, 339.3106103, 29.85818803, 80.83340171],\n",
       " [14167.62689, 339.7636872, 29.82922222, 80.91300855],\n",
       " [14195.97829, 340.2167641, 29.80025641, 80.99261538],\n",
       " [14223.83488, 339.7219573, 29.79019658, 81.07112821],\n",
       " [14251.69146, 339.2271504, 29.78013675, 81.14964103],\n",
       " [14279.54805, 338.7323436, 29.77007692, 81.22815385],\n",
       " [14307.40464, 338.2375368, 29.76001709, 81.30666667],\n",
       " [14335.26122, 337.7427299, 29.74995726, 81.38517949],\n",
       " [14363.11781, 337.2479231, 29.73989744, 81.46369231],\n",
       " [14390.9744, 336.7531162, 29.72983761, 81.54220513],\n",
       " [14418.83098, 336.2583094, 29.71977778, 81.62071795],\n",
       " [14446.68757, 335.7635026, 29.70971795, 81.69923077],\n",
       " [14474.54416, 335.2686957, 29.69965812, 81.77774359],\n",
       " [14502.40074, 334.7738889, 29.68959829, 81.85625641],\n",
       " [14530.25733, 334.2790821, 29.67953846, 81.93476923],\n",
       " [14559.60767, 335.7728368, 29.73682051, 81.97041026],\n",
       " [14588.95802, 337.2665915, 29.79410256, 82.00605128],\n",
       " [14618.30836, 338.7603462, 29.85138462, 82.04169231],\n",
       " [14647.6587, 340.2541009, 29.90866667, 82.07733333],\n",
       " [14677.00905, 341.7478556, 29.96594872, 82.11297436],\n",
       " [14706.35939, 343.2416103, 30.02323077, 82.14861538],\n",
       " [14735.70973, 344.735365, 30.08051282, 82.18425641],\n",
       " [14765.06008, 346.2291197, 30.13779487, 82.21989744],\n",
       " [14794.41042, 347.7228744, 30.19507692, 82.25553846],\n",
       " [14823.76076, 349.2166291, 30.25235897, 82.29117949],\n",
       " [14853.11111, 350.7103838, 30.30964103, 82.32682051],\n",
       " [14882.46145, 352.2041385, 30.36692308, 82.36246154],\n",
       " [14912.71547, 353.107812, 30.42133761, 82.4592265],\n",
       " [14942.96948, 354.0114855, 30.47575214, 82.55599145],\n",
       " [14973.2235, 354.915159, 30.53016667, 82.65275641],\n",
       " [15003.47751, 355.8188325, 30.5845812, 82.74952137],\n",
       " [15033.73153, 356.722506, 30.63899573, 82.84628632],\n",
       " [15063.98555, 357.6261795, 30.69341026, 82.94305128],\n",
       " [15094.23956, 358.529853, 30.74782479, 83.03981624],\n",
       " [15124.49358, 359.4335265, 30.80223932, 83.1365812],\n",
       " [15154.74759, 360.3372, 30.85665385, 83.23334615],\n",
       " [15185.00161, 361.2408735, 30.91106838, 83.33011111],\n",
       " [15215.25563, 362.144547, 30.96548291, 83.42687607],\n",
       " [15245.50964, 363.0482205, 31.01989744, 83.52364103],\n",
       " [15276.17076, 363.4553201, 31.0372735, 83.58428632],\n",
       " [15306.83188, 363.8624197, 31.05464957, 83.64493162],\n",
       " [15337.493, 364.2695192, 31.07202564, 83.70557692],\n",
       " [15368.15412, 364.6766188, 31.08940171, 83.76622222],\n",
       " [15398.81524, 365.0837184, 31.10677778, 83.82686752],\n",
       " [15429.47636, 365.4908179, 31.12415385, 83.88751282],\n",
       " [15460.13748, 365.8979175, 31.14152991, 83.94815812],\n",
       " [15490.7986, 366.3050171, 31.15890598, 84.00880342],\n",
       " [15521.45972, 366.7121167, 31.17628205, 84.06944872],\n",
       " [15552.12084, 367.1192162, 31.19365812, 84.13009402],\n",
       " [15582.78196, 367.5263158, 31.21103419, 84.19073932],\n",
       " [15613.44308, 367.9334154, 31.22841026, 84.25138462],\n",
       " [15644.32569, 368.1549085, 31.21189316, 84.24398718],\n",
       " [15675.2083, 368.3764017, 31.19537607, 84.23658974],\n",
       " [15706.09091, 368.5978949, 31.17885897, 84.22919231],\n",
       " [15736.97352, 368.819388, 31.16234188, 84.22179487],\n",
       " [15767.85613, 369.0408812, 31.14582479, 84.21439744],\n",
       " [15798.73874, 369.2623744, 31.12930769, 84.207],\n",
       " [15829.62135, 369.4838675, 31.1127906, 84.19960256],\n",
       " [15860.50396, 369.7053607, 31.0962735, 84.19220513],\n",
       " [15891.38657, 369.9268538, 31.07975641, 84.18480769],\n",
       " [15922.26918, 370.148347, 31.06323932, 84.17741026],\n",
       " [15953.15179, 370.3698402, 31.04672222, 84.17001282],\n",
       " [15984.03439, 370.5913333, 31.03020513, 84.16261538],\n",
       " [16015.06705, 370.7413765, 31.06922222, 84.29673504],\n",
       " [16046.0997, 370.8914197, 31.10823932, 84.4308547],\n",
       " [16077.13236, 371.0414628, 31.14725641, 84.56497436],\n",
       " [16108.16501, 371.191506, 31.1862735, 84.69909402],\n",
       " [16139.19766, 371.3415491, 31.2252906, 84.83321368],\n",
       " [16170.23032, 371.4915923, 31.26430769, 84.96733333],\n",
       " [16201.26297, 371.6416355, 31.30332479, 85.10145299],\n",
       " [16232.29562, 371.7916786, 31.34234188, 85.23557265],\n",
       " [16263.32828, 371.9417218, 31.38135897, 85.36969231],\n",
       " [16294.36093, 372.091765, 31.42037607, 85.50381197],\n",
       " [16325.39358, 372.2418081, 31.45939316, 85.63793162],\n",
       " [16356.42624, 372.3918513, 31.49841026, 85.77205128],\n",
       " [16387.43112, 372.3640726, 31.52685897, 85.8402094],\n",
       " [16418.43599, 372.336294, 31.55530769, 85.90836752],\n",
       " [16449.44087, 372.3085154, 31.58375641, 85.97652564],\n",
       " [16480.44575, 372.2807368, 31.61220513, 86.04468376],\n",
       " [16511.45063, 372.2529581, 31.64065385, 86.11284188],\n",
       " [16542.45551, 372.2251795, 31.66910256, 86.181],\n",
       " [16573.46039, 372.1974009, 31.69755128, 86.24915812],\n",
       " [16604.46527, 372.1696222, 31.726, 86.31731624],\n",
       " [16635.47015, 372.1418436, 31.75444872, 86.38547436],\n",
       " [16666.47503, 372.114065, 31.78289744, 86.45363248],\n",
       " [16697.47991, 372.0862863, 31.81134615, 86.5217906],\n",
       " [16728.48479, 372.0585077, 31.83979487, 86.58994872],\n",
       " [16759.44701, 372.0158551, 31.86504274, 86.5290641],\n",
       " [16790.40924, 371.9732026, 31.8902906, 86.46817949],\n",
       " [16821.37146, 371.93055, 31.91553846, 86.40729487],\n",
       " [16852.33369, 371.8878974, 31.94078632, 86.34641026],\n",
       " [16883.29591, 371.8452449, 31.96603419, 86.28552564],\n",
       " [16914.25814, 371.8025923, 31.99128205, 86.22464103],\n",
       " [16945.22036, 371.7599397, 32.01652991, 86.16375641],\n",
       " [16976.18258, 371.7172872, 32.04177778, 86.10287179],\n",
       " [17007.14481, 371.6746346, 32.06702564, 86.04198718],\n",
       " [17038.10703, 371.6319821, 32.0922735, 85.98110256],\n",
       " [17069.06926, 371.5893295, 32.11752137, 85.92021795],\n",
       " [17100.03148, 371.5466769, 32.14276923, 85.85933333],\n",
       " [17131.38779, 371.9407705, 32.18606838, 85.90661538],\n",
       " [17162.7441, 372.3348641, 32.22936752, 85.95389744],\n",
       " [17194.10041, 372.7289577, 32.27266667, 86.00117949],\n",
       " [17225.45672, 373.1230513, 32.31596581, 86.04846154],\n",
       " [17256.81304, 373.5171449, 32.35926496, 86.09574359],\n",
       " [17288.16935, 373.9112385, 32.4025641, 86.14302564],\n",
       " [17319.52566, 374.3053321, 32.44586325, 86.19030769],\n",
       " [17350.88197, 374.6994256, 32.48916239, 86.23758974],\n",
       " [17382.23828, 375.0935192, 32.53246154, 86.28487179],\n",
       " [17413.59459, 375.4876128, 32.57576068, 86.33215385],\n",
       " [17444.9509, 375.8817064, 32.61905983, 86.3794359],\n",
       " [17476.30721, 376.2758, 32.66235897, 86.42671795],\n",
       " [17508.2346, 376.8468748, 32.6489359, 86.4847094],\n",
       " [17540.16199, 377.4179496, 32.63551282, 86.54270085],\n",
       " [17572.08939, 377.9890244, 32.62208974, 86.60069231],\n",
       " [17604.01678, 378.5600991, 32.60866667, 86.65868376],\n",
       " [17635.94417, 379.1311739, 32.59524359, 86.71667521],\n",
       " [17667.87156, 379.7022487, 32.58182051, 86.77466667],\n",
       " [17699.79895, 380.2733235, 32.56839744, 86.83265812],\n",
       " [17731.72635, 380.8443983, 32.55497436, 86.89064957],\n",
       " [17763.65374, 381.4154731, 32.54155128, 86.94864103],\n",
       " [17795.58113, 381.9865479, 32.52812821, 87.00663248],\n",
       " [17827.50852, 382.5576226, 32.51470513, 87.06462393],\n",
       " [17859.43591, 383.1286974, 32.50128205, 87.12261538],\n",
       " [17891.283, 383.7019, 32.4934, 87.183],\n",
       " [17923.21, 384.273, 32.48, 87.241],\n",
       " [17955.137, 384.8441, 32.4666, 87.299],\n",
       " [17987.064, 385.4152, 32.4532, 87.357],\n",
       " [18018.991, 385.9863, 32.4398, 87.415],\n",
       " [18050.918, 386.5574, 32.4264, 87.473],\n",
       " [18082.845, 387.1285, 32.413, 87.531],\n",
       " [18114.772, 387.6996, 32.3996, 87.589],\n",
       " [18146.699, 388.2707, 32.3862, 87.647],\n",
       " [18178.626, 388.8418, 32.3728, 87.705],\n",
       " [18210.553, 389.4129, 32.3594, 87.763],\n",
       " [18242.48, 389.984, 32.346, 87.821],\n",
       " [18274.407, 390.5551, 32.3326, 87.879],\n",
       " [18306.334, 391.1262, 32.3192, 87.937],\n",
       " [18338.261, 391.6973, 32.3058, 87.995],\n",
       " [18370.188, 392.2684, 32.2924, 88.053],\n",
       " [18402.115, 392.8395, 32.279, 88.111],\n",
       " [18434.042, 393.4106, 32.2656, 88.169],\n",
       " [18465.969, 393.9817, 32.2522, 88.227],\n",
       " [18497.896, 394.5528, 32.2388, 88.285],\n",
       " [18529.823, 395.1239, 32.2254, 88.343],\n",
       " [18561.75, 395.695, 32.212, 88.401],\n",
       " [18593.677, 396.2661, 32.1986, 88.459],\n",
       " [18625.604, 396.8372, 32.1852, 88.517],\n",
       " [18657.531, 397.4083, 32.1718, 88.575],\n",
       " [18689.458, 397.9794, 32.1584, 88.633],\n",
       " [18721.385, 398.5505, 32.145, 88.691],\n",
       " [18753.312, 399.1216, 32.1316, 88.749],\n",
       " [18785.239, 399.6927, 32.1182, 88.807],\n",
       " [18817.166, 400.2638, 32.1048, 88.865],\n",
       " [18849.093, 400.8349, 32.0914, 88.923],\n",
       " [18881.02, 401.406, 32.078, 88.981],\n",
       " [18912.947, 401.9771, 32.0646, 89.039],\n",
       " [18944.874, 402.5482, 32.0512, 89.097],\n",
       " [18976.801, 403.1193, 32.0378, 89.155],\n",
       " [19008.728, 403.6904, 32.0244, 89.213]]"
      ]
     },
     "execution_count": 273,
     "metadata": {},
     "output_type": "execute_result"
    }
   ],
   "source": [
    "extrapolatedData"
   ]
  },
  {
   "cell_type": "code",
   "execution_count": 274,
   "id": "ee6d439a",
   "metadata": {},
   "outputs": [],
   "source": [
    "with open('allExtrapolatedGHGDataJan2000ToDec2021.csv', 'w', newline='') as file: \n",
    "    write = csv.writer(file)\n",
    "    for monthYear in extrapolatedData:\n",
    "        write.writerow(monthYear)"
   ]
  },
  {
   "cell_type": "markdown",
   "id": "0b9eba08",
   "metadata": {},
   "source": [
    "We save the 22 years x 12 months worth of data to a csv file to combine with the weather dataset in a separate Jupyter notebook."
   ]
  }
 ],
 "metadata": {
  "kernelspec": {
   "display_name": "Python 3",
   "language": "python",
   "name": "python3"
  },
  "language_info": {
   "codemirror_mode": {
    "name": "ipython",
    "version": 3
   },
   "file_extension": ".py",
   "mimetype": "text/x-python",
   "name": "python",
   "nbconvert_exporter": "python",
   "pygments_lexer": "ipython3",
   "version": "3.8.8"
  }
 },
 "nbformat": 4,
 "nbformat_minor": 5
}
